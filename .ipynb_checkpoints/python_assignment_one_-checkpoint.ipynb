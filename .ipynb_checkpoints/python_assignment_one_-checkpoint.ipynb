{
 "cells": [
  {
   "cell_type": "code",
   "execution_count": 2,
   "id": "943c3bf2",
   "metadata": {},
   "outputs": [
    {
     "name": "stdout",
     "output_type": "stream",
     "text": [
      "Enter Your First Number\n",
      "None5\n",
      "enter Your Second Number\n",
      "None7\n",
      "You have 5 cookies + 7 ,that's a delicious total of 12 cookies\n"
     ]
    }
   ],
   "source": [
    "#Question 1\n",
    "number1=int(input(print(\"Please Enter Your First Number\")))\n",
    "number2=int(input(print(\"Please Enter Your Second Number\")))\n",
    "sum=number1+number2\n",
    "print(\"You have\",number1,\"cookies +\",number2,\",that's a delicious total of\",sum,\"cookies\")\n"
   ]
  },
  {
   "cell_type": "code",
   "execution_count": 3,
   "id": "6f058346",
   "metadata": {},
   "outputs": [
    {
     "name": "stdout",
     "output_type": "stream",
     "text": [
      "Kindly Enter Your Name\n",
      "NoneSolomon\n",
      "Happy birthday to Solomon , happy birthday to you! My your day be filled with laught and cake, too!\n"
     ]
    }
   ],
   "source": [
    "#Question 2\n",
    "name=input(print(\"Kindly Enter Your Name\"))\n",
    "print(\"Happy birthday to\",name,\", happy birthday to you! My your day be filled with laught and cake, too!\")"
   ]
  },
  {
   "cell_type": "code",
   "execution_count": 6,
   "id": "49fc9a10",
   "metadata": {},
   "outputs": [
    {
     "name": "stdout",
     "output_type": "stream",
     "text": [
      "Enter Temperature in Celsius\n",
      "None70\n",
      "Converted temperature in Celsius 70 to Fahrenheit 158.0\n"
     ]
    }
   ],
   "source": [
    "#Question 3\n",
    "temp_in_c=int(input(print(\"Enter Temperature in Celsius\")))\n",
    "temp_in_f=(temp_in_c * 9/5)+32\n",
    "print(\"Converted temperature in Celsius\",temp_in_c,\"to Fahrenheit\",temp_in_f )"
   ]
  },
  {
   "cell_type": "code",
   "execution_count": 8,
   "id": "b8c8ddc7",
   "metadata": {},
   "outputs": [
    {
     "name": "stdout",
     "output_type": "stream",
     "text": [
      "Kindly Enter Your Name\n",
      "NoneSolomon\n",
      "Kindly Enter Your Name\n",
      "None20\n",
      "Hello Solomon,welcom!You seem like a fantastic person at 20 years old\n"
     ]
    }
   ],
   "source": [
    "#Question 4\n",
    "name=input(print(\"Kindly Enter Your Name\"))\n",
    "age=input(print(\"Kindly Enter Your Name\"))\n",
    "print(f\"Hello {name},welcom!You seem like a fantastic person at {age} years old\")"
   ]
  },
  {
   "cell_type": "code",
   "execution_count": 12,
   "id": "4b2ff8c4",
   "metadata": {},
   "outputs": [
    {
     "name": "stdout",
     "output_type": "stream",
     "text": [
      "Please Enter the price of the item\n",
      "None30\n",
      "Your price to pay is Gh32.1\n"
     ]
    }
   ],
   "source": [
    "#Question 5\n",
    "price=int(input(print(\"Please Enter the price of the item\")))\n",
    "final_price=0.07*price\n",
    "print(f\"Your price to pay is Gh{final_price + price}\")"
   ]
  },
  {
   "cell_type": "code",
   "execution_count": 16,
   "id": "9d416669",
   "metadata": {},
   "outputs": [
    {
     "name": "stdout",
     "output_type": "stream",
     "text": [
      "Kindly Enter a ingredient\n",
      "Nonerice\n",
      "Kindly Enter another ingredient\n",
      "Noneyam\n",
      "Mixing apple juice and vinegar creates the riceyam Potion\n"
     ]
    }
   ],
   "source": [
    "#Question 6\n",
    "item1=input(print(\"Kindly Enter a ingredient\"))\n",
    "item2=input(print(\"Kindly Enter another ingredient\"))\n",
    "print(\"Mixing apple juice and vinegar creates the\",item1 +item2,\"Potion\")\n"
   ]
  },
  {
   "cell_type": "code",
   "execution_count": null,
   "id": "9eb50cb0",
   "metadata": {},
   "outputs": [],
   "source": []
  }
 ],
 "metadata": {
  "kernelspec": {
   "display_name": "Python 3 (ipykernel)",
   "language": "python",
   "name": "python3"
  },
  "language_info": {
   "codemirror_mode": {
    "name": "ipython",
    "version": 3
   },
   "file_extension": ".py",
   "mimetype": "text/x-python",
   "name": "python",
   "nbconvert_exporter": "python",
   "pygments_lexer": "ipython3",
   "version": "3.9.13"
  }
 },
 "nbformat": 4,
 "nbformat_minor": 5
}
